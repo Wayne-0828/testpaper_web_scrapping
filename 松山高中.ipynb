{
 "cells": [
  {
   "cell_type": "code",
   "execution_count": 22,
   "id": "7e19e234",
   "metadata": {},
   "outputs": [],
   "source": [
    "from selenium import webdriver\n",
    "from selenium.webdriver.chrome.service import Service\n",
    "from webdriver_manager.chrome import ChromeDriverManager\n",
    "from selenium.common.exceptions import TimeoutException\n",
    "from selenium.webdriver.support.ui import WebDriverWait\n",
    "from selenium.webdriver.support import expected_conditions as EC\n",
    "from selenium.webdriver.common.by import By\n",
    "import pathlib\n",
    "from pathlib import Path\n",
    "from time import sleep\n",
    "import json\n",
    "import os\n",
    "import subprocess\n",
    "import wget"
   ]
  },
  {
   "cell_type": "code",
   "execution_count": 23,
   "id": "9ad9da15",
   "metadata": {},
   "outputs": [],
   "source": [
    "my_options = webdriver.ChromeOptions()\n",
    "my_options.add_argument(\"--start-maximized\")         #最大化視窗\n",
    "# my_options.add_argument(\"--incognito\")               #開啟無痕模式\n",
    "my_options.add_argument(\"--disable-popup-blocking\") #禁用彈出攔截\n",
    "my_options.add_argument(\"--disable-notifications\")  #取消 chrome 推播通知\n",
    "my_options.add_argument(\"--lang=zh-TW\")  #設定為正體中文\n",
    "\n",
    "base_dir = Path(__file__).resolve().parent if \"__file__\" in globals() else Path.cwd()\n",
    "download_dir = base_dir / \"松山高中\"\n",
    "download_dir.mkdir(exist_ok=True)\n",
    "prefs = {\n",
    "    # 關鍵設定\n",
    "    \"download.default_directory\": str(download_dir),   # 預設下載資料夾\n",
    "    \"download.prompt_for_download\": False,            # 不跳另存視窗\n",
    "    \"download.directory_upgrade\": True,               # 若資料夾已存在仍使用\n",
    "    \"profile.default_content_setting_values.automatic_downloads\": 1,\n",
    "    \"safebrowsing.enabled\": True,                     # 關閉「檔案可能危險」攔阻\n",
    "    # 兼容某些 Chrome 版號：UI 顯示與實際下載路徑不同步的情況\n",
    "    \"savefile.default_directory\": str(download_dir)   # CHROME 113+ 時偶爾需要:contentReference[oaicite:0]{index=0}\n",
    "}\n",
    "my_options.add_experimental_option(\"prefs\", prefs)\n",
    "\n",
    "driver = webdriver.Chrome(\n",
    "    service=Service(ChromeDriverManager().install()),\n",
    "    options=my_options\n",
    ")\n",
    "wait = WebDriverWait(driver, 10)"
   ]
  },
  {
   "cell_type": "code",
   "execution_count": 24,
   "id": "5e40f7e5",
   "metadata": {},
   "outputs": [],
   "source": [
    "def visit(url):\n",
    "    driver.get(url)\n",
    "\n",
    "def close():\n",
    "    driver.quit()\n",
    "\n",
    "def get_a(css):\n",
    "    \n",
    "    WebDriverWait(driver, 10).until(\n",
    "        EC.presence_of_element_located((By.CSS_SELECTOR, css))\n",
    "    )\n",
    "    return [a.get_attribute(\"href\")\n",
    "            for a in driver.find_elements(By.CSS_SELECTOR, css)]\n",
    "    "
   ]
  },
  {
   "cell_type": "code",
   "execution_count": 26,
   "id": "5e14f49d",
   "metadata": {},
   "outputs": [
    {
     "name": "stdout",
     "output_type": "stream",
     "text": [
      "['https://sssharchive.github.io/FileUp/96/chinese/index.htm', 'https://sssharchive.github.io/FileUp/96/english/index.htm', 'https://sssharchive.github.io/FileUp/96/math/index.htm', 'https://sssharchive.github.io/FileUp/96/physics/index.htm', 'https://sssharchive.github.io/FileUp/96/chemistry/index.htm', 'https://sssharchive.github.io/FileUp/96/history/index.htm', 'https://sssharchive.github.io/FileUp/96/geography/index.htm', 'https://sssharchive.github.io/FileUp/96/civic/index.htm', 'https://sssharchive.github.io/FileUp/96/biology/index.htm', 'https://sssharchive.github.io/FileUp/96/earth/index.htm', 'https://sssharchive.github.io/FileUp/96/review/index.htm']\n"
     ]
    },
    {
     "ename": "InvalidSessionIdException",
     "evalue": "Message: invalid session id: session deleted as the browser has closed the connection\nfrom disconnected: not connected to DevTools\n  (Session info: chrome=138.0.7204.49)\nStacktrace:\n\tGetHandleVerifier [0x0x4b4553+62419]\n\tGetHandleVerifier [0x0x4b4594+62484]\n\t(No symbol) [0x0x2f2133]\n\t(No symbol) [0x0x2e1b40]\n\t(No symbol) [0x0x2ff912]\n\t(No symbol) [0x0x365d6c]\n\t(No symbol) [0x0x380159]\n\t(No symbol) [0x0x35f266]\n\t(No symbol) [0x0x32e852]\n\t(No symbol) [0x0x32f6f4]\n\tGetHandleVerifier [0x0x724833+2619059]\n\tGetHandleVerifier [0x0x71fc4a+2599626]\n\tGetHandleVerifier [0x0x4db0fa+221050]\n\tGetHandleVerifier [0x0x4cb378+156152]\n\tGetHandleVerifier [0x0x4d1d2d+183213]\n\tGetHandleVerifier [0x0x4bc438+94904]\n\tGetHandleVerifier [0x0x4bc5c2+95298]\n\tGetHandleVerifier [0x0x4a771a+9626]\n\tBaseThreadInitThunk [0x0x76ca5d49+25]\n\tRtlInitializeExceptionChain [0x0x77bcd09b+107]\n\tRtlGetAppContainerNamedObjectPath [0x0x77bcd021+561]\n",
     "output_type": "error",
     "traceback": [
      "\u001b[31m---------------------------------------------------------------------------\u001b[39m",
      "\u001b[31mInvalidSessionIdException\u001b[39m                 Traceback (most recent call last)",
      "\u001b[36mCell\u001b[39m\u001b[36m \u001b[39m\u001b[32mIn[26]\u001b[39m\u001b[32m, line 14\u001b[39m\n\u001b[32m     12\u001b[39m visit(url)\n\u001b[32m     13\u001b[39m \u001b[38;5;28;01mfor\u001b[39;00m a \u001b[38;5;129;01min\u001b[39;00m driver.find_elements(By.CSS_SELECTOR, \u001b[33m\"\u001b[39m\u001b[33mtable tr a\u001b[39m\u001b[33m\"\u001b[39m):\n\u001b[32m---> \u001b[39m\u001b[32m14\u001b[39m     \u001b[43mdriver\u001b[49m\u001b[43m.\u001b[49m\u001b[43mexecute_script\u001b[49m\u001b[43m(\u001b[49m\u001b[33;43m\"\u001b[39;49m\u001b[33;43marguments[0].scrollIntoView(true);\u001b[39;49m\u001b[33;43m\"\u001b[39;49m\u001b[43m,\u001b[49m\u001b[43m \u001b[49m\u001b[43ma\u001b[49m\u001b[43m)\u001b[49m  \n\u001b[32m     15\u001b[39m     a.click()\n\u001b[32m     16\u001b[39m     sleep(\u001b[32m2\u001b[39m)\n",
      "\u001b[36mFile \u001b[39m\u001b[32mc:\\Users\\88693\\AppData\\Local\\Programs\\Python\\Python313\\Lib\\site-packages\\selenium\\webdriver\\remote\\webdriver.py:547\u001b[39m, in \u001b[36mWebDriver.execute_script\u001b[39m\u001b[34m(self, script, *args)\u001b[39m\n\u001b[32m    544\u001b[39m converted_args = \u001b[38;5;28mlist\u001b[39m(args)\n\u001b[32m    545\u001b[39m command = Command.W3C_EXECUTE_SCRIPT\n\u001b[32m--> \u001b[39m\u001b[32m547\u001b[39m \u001b[38;5;28;01mreturn\u001b[39;00m \u001b[38;5;28;43mself\u001b[39;49m\u001b[43m.\u001b[49m\u001b[43mexecute\u001b[49m\u001b[43m(\u001b[49m\u001b[43mcommand\u001b[49m\u001b[43m,\u001b[49m\u001b[43m \u001b[49m\u001b[43m{\u001b[49m\u001b[33;43m\"\u001b[39;49m\u001b[33;43mscript\u001b[39;49m\u001b[33;43m\"\u001b[39;49m\u001b[43m:\u001b[49m\u001b[43m \u001b[49m\u001b[43mscript\u001b[49m\u001b[43m,\u001b[49m\u001b[43m \u001b[49m\u001b[33;43m\"\u001b[39;49m\u001b[33;43margs\u001b[39;49m\u001b[33;43m\"\u001b[39;49m\u001b[43m:\u001b[49m\u001b[43m \u001b[49m\u001b[43mconverted_args\u001b[49m\u001b[43m}\u001b[49m\u001b[43m)\u001b[49m[\u001b[33m\"\u001b[39m\u001b[33mvalue\u001b[39m\u001b[33m\"\u001b[39m]\n",
      "\u001b[36mFile \u001b[39m\u001b[32mc:\\Users\\88693\\AppData\\Local\\Programs\\Python\\Python313\\Lib\\site-packages\\selenium\\webdriver\\remote\\webdriver.py:448\u001b[39m, in \u001b[36mWebDriver.execute\u001b[39m\u001b[34m(self, driver_command, params)\u001b[39m\n\u001b[32m    446\u001b[39m response = \u001b[38;5;28mself\u001b[39m.command_executor.execute(driver_command, params)\n\u001b[32m    447\u001b[39m \u001b[38;5;28;01mif\u001b[39;00m response:\n\u001b[32m--> \u001b[39m\u001b[32m448\u001b[39m     \u001b[38;5;28;43mself\u001b[39;49m\u001b[43m.\u001b[49m\u001b[43merror_handler\u001b[49m\u001b[43m.\u001b[49m\u001b[43mcheck_response\u001b[49m\u001b[43m(\u001b[49m\u001b[43mresponse\u001b[49m\u001b[43m)\u001b[49m\n\u001b[32m    449\u001b[39m     response[\u001b[33m\"\u001b[39m\u001b[33mvalue\u001b[39m\u001b[33m\"\u001b[39m] = \u001b[38;5;28mself\u001b[39m._unwrap_value(response.get(\u001b[33m\"\u001b[39m\u001b[33mvalue\u001b[39m\u001b[33m\"\u001b[39m, \u001b[38;5;28;01mNone\u001b[39;00m))\n\u001b[32m    450\u001b[39m     \u001b[38;5;28;01mreturn\u001b[39;00m response\n",
      "\u001b[36mFile \u001b[39m\u001b[32mc:\\Users\\88693\\AppData\\Local\\Programs\\Python\\Python313\\Lib\\site-packages\\selenium\\webdriver\\remote\\errorhandler.py:232\u001b[39m, in \u001b[36mErrorHandler.check_response\u001b[39m\u001b[34m(self, response)\u001b[39m\n\u001b[32m    230\u001b[39m         alert_text = value[\u001b[33m\"\u001b[39m\u001b[33malert\u001b[39m\u001b[33m\"\u001b[39m].get(\u001b[33m\"\u001b[39m\u001b[33mtext\u001b[39m\u001b[33m\"\u001b[39m)\n\u001b[32m    231\u001b[39m     \u001b[38;5;28;01mraise\u001b[39;00m exception_class(message, screen, stacktrace, alert_text)  \u001b[38;5;66;03m# type: ignore[call-arg]  # mypy is not smart enough here\u001b[39;00m\n\u001b[32m--> \u001b[39m\u001b[32m232\u001b[39m \u001b[38;5;28;01mraise\u001b[39;00m exception_class(message, screen, stacktrace)\n",
      "\u001b[31mInvalidSessionIdException\u001b[39m: Message: invalid session id: session deleted as the browser has closed the connection\nfrom disconnected: not connected to DevTools\n  (Session info: chrome=138.0.7204.49)\nStacktrace:\n\tGetHandleVerifier [0x0x4b4553+62419]\n\tGetHandleVerifier [0x0x4b4594+62484]\n\t(No symbol) [0x0x2f2133]\n\t(No symbol) [0x0x2e1b40]\n\t(No symbol) [0x0x2ff912]\n\t(No symbol) [0x0x365d6c]\n\t(No symbol) [0x0x380159]\n\t(No symbol) [0x0x35f266]\n\t(No symbol) [0x0x32e852]\n\t(No symbol) [0x0x32f6f4]\n\tGetHandleVerifier [0x0x724833+2619059]\n\tGetHandleVerifier [0x0x71fc4a+2599626]\n\tGetHandleVerifier [0x0x4db0fa+221050]\n\tGetHandleVerifier [0x0x4cb378+156152]\n\tGetHandleVerifier [0x0x4d1d2d+183213]\n\tGetHandleVerifier [0x0x4bc438+94904]\n\tGetHandleVerifier [0x0x4bc5c2+95298]\n\tGetHandleVerifier [0x0x4a771a+9626]\n\tBaseThreadInitThunk [0x0x76ca5d49+25]\n\tRtlInitializeExceptionChain [0x0x77bcd09b+107]\n\tRtlGetAppContainerNamedObjectPath [0x0x77bcd021+561]\n"
     ]
    }
   ],
   "source": [
    "visit('https://sssharchive.github.io/FileUp/96/tree/index.htm')\n",
    "\n",
    "WebDriverWait(driver, 10).until(\n",
    "    EC.frame_to_be_available_and_switch_to_it((By.NAME, \"contents\"))\n",
    ")\n",
    "\n",
    "links = get_a(\"table[width='120'][border='1'] tr a\")\n",
    "print(links)\n",
    "driver.switch_to.default_content()\n",
    "\n",
    "for url in links:\n",
    "    visit(url)\n",
    "    for a in driver.find_elements(By.CSS_SELECTOR, \"table tr a\"):\n",
    "        driver.execute_script(\"arguments[0].scrollIntoView(true);\", a)  \n",
    "        a.click()\n",
    "        sleep(2)\n"
   ]
  },
  {
   "cell_type": "code",
   "execution_count": null,
   "id": "59439f8c",
   "metadata": {},
   "outputs": [],
   "source": []
  }
 ],
 "metadata": {
  "kernelspec": {
   "display_name": "Python 3",
   "language": "python",
   "name": "python3"
  },
  "language_info": {
   "codemirror_mode": {
    "name": "ipython",
    "version": 3
   },
   "file_extension": ".py",
   "mimetype": "text/x-python",
   "name": "python",
   "nbconvert_exporter": "python",
   "pygments_lexer": "ipython3",
   "version": "3.13.3"
  }
 },
 "nbformat": 4,
 "nbformat_minor": 5
}
