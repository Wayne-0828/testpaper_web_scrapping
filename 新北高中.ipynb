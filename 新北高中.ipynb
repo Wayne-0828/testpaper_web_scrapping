{
 "cells": [
  {
   "cell_type": "code",
   "execution_count": 38,
   "id": "3a6066c3",
   "metadata": {},
   "outputs": [],
   "source": [
    "from selenium import webdriver\n",
    "from selenium.webdriver.chrome.service import Service\n",
    "from webdriver_manager.chrome import ChromeDriverManager\n",
    "from selenium.common.exceptions import TimeoutException\n",
    "from selenium.webdriver.support.ui import WebDriverWait\n",
    "from selenium.webdriver.support import expected_conditions as EC\n",
    "from selenium.webdriver.common.by import By\n",
    "import pathlib\n",
    "from pathlib import Path\n",
    "from time import sleep\n",
    "import json\n",
    "import os\n",
    "import subprocess\n",
    "import wget"
   ]
  },
  {
   "cell_type": "code",
   "execution_count": 43,
   "id": "a5be6528",
   "metadata": {},
   "outputs": [],
   "source": [
    "my_options = webdriver.ChromeOptions()\n",
    "my_options.add_argument(\"--start-maximized\")         #最大化視窗\n",
    "# my_options.add_argument(\"--incognito\")               #開啟無痕模式\n",
    "my_options.add_argument(\"--disable-popup-blocking\") #禁用彈出攔截\n",
    "my_options.add_argument(\"--disable-notifications\")  #取消 chrome 推播通知\n",
    "my_options.add_argument(\"--lang=zh-TW\")  #設定為正體中文\n",
    "\n",
    "base_dir = Path(__file__).resolve().parent if \"__file__\" in globals() else Path.cwd()\n",
    "download_dir = base_dir / \"新北高中\"\n",
    "download_dir.mkdir(exist_ok=True)\n",
    "prefs = {\n",
    "    # 關鍵設定\n",
    "    \"download.default_directory\": str(download_dir),   # 預設下載資料夾\n",
    "    \"download.prompt_for_download\": False,            # 不跳另存視窗\n",
    "    \"download.directory_upgrade\": True,               # 若資料夾已存在仍使用\n",
    "    \"profile.default_content_setting_values.automatic_downloads\": 1,\n",
    "    \"safebrowsing.enabled\": True,                     # 關閉「檔案可能危險」攔阻\n",
    "    # 兼容某些 Chrome 版號：UI 顯示與實際下載路徑不同步的情況\n",
    "    \"savefile.default_directory\": str(download_dir)   # CHROME 113+ 時偶爾需要:contentReference[oaicite:0]{index=0}\n",
    "}\n",
    "my_options.add_experimental_option(\"prefs\", prefs)\n",
    "wait = WebDriverWait(driver, 10)\n",
    "driver = webdriver.Chrome(\n",
    "    service=Service(ChromeDriverManager().install()),\n",
    "    options=my_options\n",
    ")"
   ]
  },
  {
   "cell_type": "code",
   "execution_count": 44,
   "id": "6762442d",
   "metadata": {},
   "outputs": [],
   "source": [
    "def visit():\n",
    "    driver.get('https://www.ntsh.ntpc.edu.tw/p/412-1000-152.php?Lang=zh-tw')\n",
    "\n",
    "def scroll():\n",
    "    innerHeight = 0\n",
    "    offset = 0\n",
    "    count = 0\n",
    "    limit = 3\n",
    "\n",
    "    while count <= limit:\n",
    "        offset = driver.execute_script(\n",
    "            'return document.documentElement.scrollHeight;'\n",
    "        )\n",
    "\n",
    "        \n",
    "        driver.execute_script(f'''\n",
    "            window.scrollTo({{\n",
    "                top: {offset}, \n",
    "                behavior: 'smooth' \n",
    "            }});\n",
    "        ''')\n",
    "\n",
    "        sleep(1)\n",
    "\n",
    "        innerHeight = driver.execute_script(\n",
    "            'return document.documentElement.scrollHeight;'\n",
    "        )\n",
    "        \n",
    "        if offset == innerHeight:\n",
    "            count += 1\n",
    "            \n",
    "def close():\n",
    "    driver.quit()"
   ]
  },
  {
   "cell_type": "code",
   "execution_count": 45,
   "id": "04b5eb7b",
   "metadata": {},
   "outputs": [],
   "source": [
    "visit()\n",
    "scroll()"
   ]
  },
  {
   "cell_type": "code",
   "execution_count": null,
   "id": "73267b27",
   "metadata": {},
   "outputs": [
    {
     "ename": "TimeoutException",
     "evalue": "Message: \nStacktrace:\n\tGetHandleVerifier [0x0x3b4493+62419]\n\tGetHandleVerifier [0x0x3b44d4+62484]\n\t(No symbol) [0x0x1f2133]\n\t(No symbol) [0x0x23a8fe]\n\t(No symbol) [0x0x23ac9b]\n\t(No symbol) [0x0x283052]\n\t(No symbol) [0x0x25f4b4]\n\t(No symbol) [0x0x28087a]\n\t(No symbol) [0x0x25f266]\n\t(No symbol) [0x0x22e852]\n\t(No symbol) [0x0x22f6f4]\n\tGetHandleVerifier [0x0x624773+2619059]\n\tGetHandleVerifier [0x0x61fb8a+2599626]\n\tGetHandleVerifier [0x0x3db03a+221050]\n\tGetHandleVerifier [0x0x3cb2b8+156152]\n\tGetHandleVerifier [0x0x3d1c6d+183213]\n\tGetHandleVerifier [0x0x3bc378+94904]\n\tGetHandleVerifier [0x0x3bc502+95298]\n\tGetHandleVerifier [0x0x3a765a+9626]\n\tBaseThreadInitThunk [0x0x76ca5d49+25]\n\tRtlInitializeExceptionChain [0x0x77bcd09b+107]\n\tRtlGetAppContainerNamedObjectPath [0x0x77bcd021+561]\n",
     "output_type": "error",
     "traceback": [
      "\u001b[31m---------------------------------------------------------------------------\u001b[39m",
      "\u001b[31mTimeoutException\u001b[39m                          Traceback (most recent call last)",
      "\u001b[36mCell\u001b[39m\u001b[36m \u001b[39m\u001b[32mIn[46]\u001b[39m\u001b[32m, line 7\u001b[39m\n\u001b[32m      4\u001b[39m \u001b[38;5;28;01mfor\u001b[39;00m url \u001b[38;5;129;01min\u001b[39;00m links:\n\u001b[32m      5\u001b[39m     driver.get(url)\n\u001b[32m----> \u001b[39m\u001b[32m7\u001b[39m     dl_btn = \u001b[43mWebDriverWait\u001b[49m\u001b[43m(\u001b[49m\u001b[43mdriver\u001b[49m\u001b[43m,\u001b[49m\u001b[43m \u001b[49m\u001b[32;43m10\u001b[39;49m\u001b[43m)\u001b[49m\u001b[43m.\u001b[49m\u001b[43muntil\u001b[49m\u001b[43m(\u001b[49m\u001b[43mEC\u001b[49m\u001b[43m.\u001b[49m\u001b[43melement_to_be_clickable\u001b[49m\u001b[43m(\u001b[49m\u001b[43m(\u001b[49m\u001b[43mBy\u001b[49m\u001b[43m.\u001b[49m\u001b[43mCSS_SELECTOR\u001b[49m\u001b[43m,\u001b[49m\u001b[43m \u001b[49m\u001b[33;43m\"\u001b[39;49m\u001b[33;43m.module-ptattach a\u001b[39;49m\u001b[33;43m\"\u001b[39;49m\u001b[43m)\u001b[49m\u001b[43m)\u001b[49m\u001b[43m)\u001b[49m\n\u001b[32m      8\u001b[39m     dl_btn.click()\n\u001b[32m     10\u001b[39m     sleep(\u001b[32m5\u001b[39m)\n",
      "\u001b[36mFile \u001b[39m\u001b[32mc:\\Users\\88693\\AppData\\Local\\Programs\\Python\\Python313\\Lib\\site-packages\\selenium\\webdriver\\support\\wait.py:146\u001b[39m, in \u001b[36mWebDriverWait.until\u001b[39m\u001b[34m(self, method, message)\u001b[39m\n\u001b[32m    144\u001b[39m         \u001b[38;5;28;01mbreak\u001b[39;00m\n\u001b[32m    145\u001b[39m     time.sleep(\u001b[38;5;28mself\u001b[39m._poll)\n\u001b[32m--> \u001b[39m\u001b[32m146\u001b[39m \u001b[38;5;28;01mraise\u001b[39;00m TimeoutException(message, screen, stacktrace)\n",
      "\u001b[31mTimeoutException\u001b[39m: Message: \nStacktrace:\n\tGetHandleVerifier [0x0x3b4493+62419]\n\tGetHandleVerifier [0x0x3b44d4+62484]\n\t(No symbol) [0x0x1f2133]\n\t(No symbol) [0x0x23a8fe]\n\t(No symbol) [0x0x23ac9b]\n\t(No symbol) [0x0x283052]\n\t(No symbol) [0x0x25f4b4]\n\t(No symbol) [0x0x28087a]\n\t(No symbol) [0x0x25f266]\n\t(No symbol) [0x0x22e852]\n\t(No symbol) [0x0x22f6f4]\n\tGetHandleVerifier [0x0x624773+2619059]\n\tGetHandleVerifier [0x0x61fb8a+2599626]\n\tGetHandleVerifier [0x0x3db03a+221050]\n\tGetHandleVerifier [0x0x3cb2b8+156152]\n\tGetHandleVerifier [0x0x3d1c6d+183213]\n\tGetHandleVerifier [0x0x3bc378+94904]\n\tGetHandleVerifier [0x0x3bc502+95298]\n\tGetHandleVerifier [0x0x3a765a+9626]\n\tBaseThreadInitThunk [0x0x76ca5d49+25]\n\tRtlInitializeExceptionChain [0x0x77bcd09b+107]\n\tRtlGetAppContainerNamedObjectPath [0x0x77bcd021+561]\n"
     ]
    }
   ],
   "source": [
    "anchors = driver.find_elements(By.CSS_SELECTOR, \".row.listBS .d-title a\")\n",
    "links = [a.get_attribute(\"href\") for a in anchors]\n",
    "\n",
    "for url in links:\n",
    "    driver.get(url)\n",
    "\n",
    "    dl_btn = WebDriverWait(driver, 10).until(EC.element_to_be_clickable((By.CSS_SELECTOR, \".module-ptattach a\")))\n",
    "    dl_btn.click()\n",
    "\n",
    "    sleep(5)"
   ]
  },
  {
   "cell_type": "code",
   "execution_count": 11,
   "id": "3144d887",
   "metadata": {},
   "outputs": [],
   "source": [
    "close()"
   ]
  }
 ],
 "metadata": {
  "kernelspec": {
   "display_name": "Python 3",
   "language": "python",
   "name": "python3"
  },
  "language_info": {
   "codemirror_mode": {
    "name": "ipython",
    "version": 3
   },
   "file_extension": ".py",
   "mimetype": "text/x-python",
   "name": "python",
   "nbconvert_exporter": "python",
   "pygments_lexer": "ipython3",
   "version": "3.13.3"
  }
 },
 "nbformat": 4,
 "nbformat_minor": 5
}
